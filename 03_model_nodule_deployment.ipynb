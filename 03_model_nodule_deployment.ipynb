{
  "nbformat": 4,
  "nbformat_minor": 0,
  "metadata": {
    "colab": {
      "provenance": []
    },
    "kernelspec": {
      "name": "python3",
      "display_name": "Python 3"
    },
    "language_info": {
      "name": "python"
    }
  },
  "cells": [
    {
      "cell_type": "markdown",
      "source": [
        "### 📌 Phase 5: Model Deployment with Gradio, Hugging Face Spaces & More\n",
        "\n",
        "In this phase, we focus on deploying the fine-tuned YOLOv8 model to make it **interactive and usable** for others. The goal is to build a lightweight front-end application where users can upload X-ray images and visualize nodule detection results in real time.\n",
        "\n",
        "The steps include:\n",
        "- Creating a simple **Gradio** interface that loads the model, accepts image input, and returns the prediction with bounding boxes\n",
        "- Testing the app locally to ensure it runs smoothly\n",
        "- Optionally, pushing the app to **Hugging Face Spaces** to make it publicly accessible\n",
        "- If needed, preparing a **FastAPI** version for more flexibility or back-end integration\n",
        "\n",
        "This step allows us to:\n",
        "- Demonstrate real-world usability of the model\n",
        "- Showcase deployment skills (a key part of ML engineering)\n",
        "- Provide an easy way to share results with stakeholders, clients, or recruiters\n",
        "\n",
        "👉 **Live Demo**: [baptiste-lf-data/x-ray_Nodule_Detection](https://huggingface.co/spaces/baptiste-lf-data/x-ray_Nodule_Detection)\n"
      ],
      "metadata": {
        "id": "84SFIIkuUP9Z"
      }
    },
    {
      "cell_type": "markdown",
      "source": [
        "## ⚙️ Install Data\n"
      ],
      "metadata": {
        "id": "K_uzRz93YW_b"
      }
    },
    {
      "cell_type": "code",
      "execution_count": 1,
      "metadata": {
        "colab": {
          "base_uri": "https://localhost:8080/"
        },
        "id": "PTfFgSvmTN6l",
        "outputId": "ecc90305-2e39-4966-cf0c-7a2726b2401a"
      },
      "outputs": [
        {
          "output_type": "stream",
          "name": "stdout",
          "text": [
            "Collecting ultralytics\n",
            "  Downloading ultralytics-8.3.159-py3-none-any.whl.metadata (37 kB)\n",
            "Collecting roboflow\n",
            "  Downloading roboflow-1.1.66-py3-none-any.whl.metadata (9.7 kB)\n",
            "Requirement already satisfied: opencv-python in /usr/local/lib/python3.11/dist-packages (4.11.0.86)\n",
            "Requirement already satisfied: numpy>=1.23.0 in /usr/local/lib/python3.11/dist-packages (from ultralytics) (2.0.2)\n",
            "Requirement already satisfied: matplotlib>=3.3.0 in /usr/local/lib/python3.11/dist-packages (from ultralytics) (3.10.0)\n",
            "Requirement already satisfied: pillow>=7.1.2 in /usr/local/lib/python3.11/dist-packages (from ultralytics) (11.2.1)\n",
            "Requirement already satisfied: pyyaml>=5.3.1 in /usr/local/lib/python3.11/dist-packages (from ultralytics) (6.0.2)\n",
            "Requirement already satisfied: requests>=2.23.0 in /usr/local/lib/python3.11/dist-packages (from ultralytics) (2.32.3)\n",
            "Requirement already satisfied: scipy>=1.4.1 in /usr/local/lib/python3.11/dist-packages (from ultralytics) (1.15.3)\n",
            "Requirement already satisfied: torch>=1.8.0 in /usr/local/lib/python3.11/dist-packages (from ultralytics) (2.6.0+cu124)\n",
            "Requirement already satisfied: torchvision>=0.9.0 in /usr/local/lib/python3.11/dist-packages (from ultralytics) (0.21.0+cu124)\n",
            "Requirement already satisfied: tqdm>=4.64.0 in /usr/local/lib/python3.11/dist-packages (from ultralytics) (4.67.1)\n",
            "Requirement already satisfied: psutil in /usr/local/lib/python3.11/dist-packages (from ultralytics) (5.9.5)\n",
            "Requirement already satisfied: py-cpuinfo in /usr/local/lib/python3.11/dist-packages (from ultralytics) (9.0.0)\n",
            "Requirement already satisfied: pandas>=1.1.4 in /usr/local/lib/python3.11/dist-packages (from ultralytics) (2.2.2)\n",
            "Collecting ultralytics-thop>=2.0.0 (from ultralytics)\n",
            "  Downloading ultralytics_thop-2.0.14-py3-none-any.whl.metadata (9.4 kB)\n",
            "Requirement already satisfied: certifi in /usr/local/lib/python3.11/dist-packages (from roboflow) (2025.6.15)\n",
            "Collecting idna==3.7 (from roboflow)\n",
            "  Downloading idna-3.7-py3-none-any.whl.metadata (9.9 kB)\n",
            "Requirement already satisfied: cycler in /usr/local/lib/python3.11/dist-packages (from roboflow) (0.12.1)\n",
            "Requirement already satisfied: kiwisolver>=1.3.1 in /usr/local/lib/python3.11/dist-packages (from roboflow) (1.4.8)\n",
            "Collecting opencv-python-headless==4.10.0.84 (from roboflow)\n",
            "  Downloading opencv_python_headless-4.10.0.84-cp37-abi3-manylinux_2_17_x86_64.manylinux2014_x86_64.whl.metadata (20 kB)\n",
            "Collecting pillow-heif>=0.18.0 (from roboflow)\n",
            "  Downloading pillow_heif-0.22.0-cp311-cp311-manylinux_2_17_x86_64.manylinux2014_x86_64.whl.metadata (9.6 kB)\n",
            "Requirement already satisfied: python-dateutil in /usr/local/lib/python3.11/dist-packages (from roboflow) (2.9.0.post0)\n",
            "Collecting python-dotenv (from roboflow)\n",
            "  Downloading python_dotenv-1.1.1-py3-none-any.whl.metadata (24 kB)\n",
            "Requirement already satisfied: six in /usr/local/lib/python3.11/dist-packages (from roboflow) (1.17.0)\n",
            "Requirement already satisfied: urllib3>=1.26.6 in /usr/local/lib/python3.11/dist-packages (from roboflow) (2.4.0)\n",
            "Requirement already satisfied: requests-toolbelt in /usr/local/lib/python3.11/dist-packages (from roboflow) (1.0.0)\n",
            "Collecting filetype (from roboflow)\n",
            "  Downloading filetype-1.2.0-py2.py3-none-any.whl.metadata (6.5 kB)\n",
            "Requirement already satisfied: contourpy>=1.0.1 in /usr/local/lib/python3.11/dist-packages (from matplotlib>=3.3.0->ultralytics) (1.3.2)\n",
            "Requirement already satisfied: fonttools>=4.22.0 in /usr/local/lib/python3.11/dist-packages (from matplotlib>=3.3.0->ultralytics) (4.58.4)\n",
            "Requirement already satisfied: packaging>=20.0 in /usr/local/lib/python3.11/dist-packages (from matplotlib>=3.3.0->ultralytics) (24.2)\n",
            "Requirement already satisfied: pyparsing>=2.3.1 in /usr/local/lib/python3.11/dist-packages (from matplotlib>=3.3.0->ultralytics) (3.2.3)\n",
            "Requirement already satisfied: pytz>=2020.1 in /usr/local/lib/python3.11/dist-packages (from pandas>=1.1.4->ultralytics) (2025.2)\n",
            "Requirement already satisfied: tzdata>=2022.7 in /usr/local/lib/python3.11/dist-packages (from pandas>=1.1.4->ultralytics) (2025.2)\n",
            "Requirement already satisfied: charset-normalizer<4,>=2 in /usr/local/lib/python3.11/dist-packages (from requests>=2.23.0->ultralytics) (3.4.2)\n",
            "Requirement already satisfied: filelock in /usr/local/lib/python3.11/dist-packages (from torch>=1.8.0->ultralytics) (3.18.0)\n",
            "Requirement already satisfied: typing-extensions>=4.10.0 in /usr/local/lib/python3.11/dist-packages (from torch>=1.8.0->ultralytics) (4.14.0)\n",
            "Requirement already satisfied: networkx in /usr/local/lib/python3.11/dist-packages (from torch>=1.8.0->ultralytics) (3.5)\n",
            "Requirement already satisfied: jinja2 in /usr/local/lib/python3.11/dist-packages (from torch>=1.8.0->ultralytics) (3.1.6)\n",
            "Requirement already satisfied: fsspec in /usr/local/lib/python3.11/dist-packages (from torch>=1.8.0->ultralytics) (2025.3.2)\n",
            "Collecting nvidia-cuda-nvrtc-cu12==12.4.127 (from torch>=1.8.0->ultralytics)\n",
            "  Downloading nvidia_cuda_nvrtc_cu12-12.4.127-py3-none-manylinux2014_x86_64.whl.metadata (1.5 kB)\n",
            "Collecting nvidia-cuda-runtime-cu12==12.4.127 (from torch>=1.8.0->ultralytics)\n",
            "  Downloading nvidia_cuda_runtime_cu12-12.4.127-py3-none-manylinux2014_x86_64.whl.metadata (1.5 kB)\n",
            "Collecting nvidia-cuda-cupti-cu12==12.4.127 (from torch>=1.8.0->ultralytics)\n",
            "  Downloading nvidia_cuda_cupti_cu12-12.4.127-py3-none-manylinux2014_x86_64.whl.metadata (1.6 kB)\n",
            "Collecting nvidia-cudnn-cu12==9.1.0.70 (from torch>=1.8.0->ultralytics)\n",
            "  Downloading nvidia_cudnn_cu12-9.1.0.70-py3-none-manylinux2014_x86_64.whl.metadata (1.6 kB)\n",
            "Collecting nvidia-cublas-cu12==12.4.5.8 (from torch>=1.8.0->ultralytics)\n",
            "  Downloading nvidia_cublas_cu12-12.4.5.8-py3-none-manylinux2014_x86_64.whl.metadata (1.5 kB)\n",
            "Collecting nvidia-cufft-cu12==11.2.1.3 (from torch>=1.8.0->ultralytics)\n",
            "  Downloading nvidia_cufft_cu12-11.2.1.3-py3-none-manylinux2014_x86_64.whl.metadata (1.5 kB)\n",
            "Collecting nvidia-curand-cu12==10.3.5.147 (from torch>=1.8.0->ultralytics)\n",
            "  Downloading nvidia_curand_cu12-10.3.5.147-py3-none-manylinux2014_x86_64.whl.metadata (1.5 kB)\n",
            "Collecting nvidia-cusolver-cu12==11.6.1.9 (from torch>=1.8.0->ultralytics)\n",
            "  Downloading nvidia_cusolver_cu12-11.6.1.9-py3-none-manylinux2014_x86_64.whl.metadata (1.6 kB)\n",
            "Collecting nvidia-cusparse-cu12==12.3.1.170 (from torch>=1.8.0->ultralytics)\n",
            "  Downloading nvidia_cusparse_cu12-12.3.1.170-py3-none-manylinux2014_x86_64.whl.metadata (1.6 kB)\n",
            "Requirement already satisfied: nvidia-cusparselt-cu12==0.6.2 in /usr/local/lib/python3.11/dist-packages (from torch>=1.8.0->ultralytics) (0.6.2)\n",
            "Requirement already satisfied: nvidia-nccl-cu12==2.21.5 in /usr/local/lib/python3.11/dist-packages (from torch>=1.8.0->ultralytics) (2.21.5)\n",
            "Requirement already satisfied: nvidia-nvtx-cu12==12.4.127 in /usr/local/lib/python3.11/dist-packages (from torch>=1.8.0->ultralytics) (12.4.127)\n",
            "Collecting nvidia-nvjitlink-cu12==12.4.127 (from torch>=1.8.0->ultralytics)\n",
            "  Downloading nvidia_nvjitlink_cu12-12.4.127-py3-none-manylinux2014_x86_64.whl.metadata (1.5 kB)\n",
            "Requirement already satisfied: triton==3.2.0 in /usr/local/lib/python3.11/dist-packages (from torch>=1.8.0->ultralytics) (3.2.0)\n",
            "Requirement already satisfied: sympy==1.13.1 in /usr/local/lib/python3.11/dist-packages (from torch>=1.8.0->ultralytics) (1.13.1)\n",
            "Requirement already satisfied: mpmath<1.4,>=1.1.0 in /usr/local/lib/python3.11/dist-packages (from sympy==1.13.1->torch>=1.8.0->ultralytics) (1.3.0)\n",
            "Requirement already satisfied: MarkupSafe>=2.0 in /usr/local/lib/python3.11/dist-packages (from jinja2->torch>=1.8.0->ultralytics) (3.0.2)\n",
            "Downloading ultralytics-8.3.159-py3-none-any.whl (1.0 MB)\n",
            "\u001b[2K   \u001b[90m━━━━━━━━━━━━━━━━━━━━━━━━━━━━━━━━━━━━━━━━\u001b[0m \u001b[32m1.0/1.0 MB\u001b[0m \u001b[31m16.4 MB/s\u001b[0m eta \u001b[36m0:00:00\u001b[0m\n",
            "\u001b[?25hDownloading roboflow-1.1.66-py3-none-any.whl (86 kB)\n",
            "\u001b[2K   \u001b[90m━━━━━━━━━━━━━━━━━━━━━━━━━━━━━━━━━━━━━━━━\u001b[0m \u001b[32m86.7/86.7 kB\u001b[0m \u001b[31m5.3 MB/s\u001b[0m eta \u001b[36m0:00:00\u001b[0m\n",
            "\u001b[?25hDownloading idna-3.7-py3-none-any.whl (66 kB)\n",
            "\u001b[2K   \u001b[90m━━━━━━━━━━━━━━━━━━━━━━━━━━━━━━━━━━━━━━━━\u001b[0m \u001b[32m66.8/66.8 kB\u001b[0m \u001b[31m3.8 MB/s\u001b[0m eta \u001b[36m0:00:00\u001b[0m\n",
            "\u001b[?25hDownloading opencv_python_headless-4.10.0.84-cp37-abi3-manylinux_2_17_x86_64.manylinux2014_x86_64.whl (49.9 MB)\n",
            "\u001b[2K   \u001b[90m━━━━━━━━━━━━━━━━━━━━━━━━━━━━━━━━━━━━━━━━\u001b[0m \u001b[32m49.9/49.9 MB\u001b[0m \u001b[31m29.8 MB/s\u001b[0m eta \u001b[36m0:00:00\u001b[0m\n",
            "\u001b[?25hDownloading pillow_heif-0.22.0-cp311-cp311-manylinux_2_17_x86_64.manylinux2014_x86_64.whl (7.8 MB)\n",
            "\u001b[2K   \u001b[90m━━━━━━━━━━━━━━━━━━━━━━━━━━━━━━━━━━━━━━━━\u001b[0m \u001b[32m7.8/7.8 MB\u001b[0m \u001b[31m91.4 MB/s\u001b[0m eta \u001b[36m0:00:00\u001b[0m\n",
            "\u001b[?25hDownloading nvidia_cublas_cu12-12.4.5.8-py3-none-manylinux2014_x86_64.whl (363.4 MB)\n",
            "\u001b[2K   \u001b[90m━━━━━━━━━━━━━━━━━━━━━━━━━━━━━━━━━━━━━━━━\u001b[0m \u001b[32m363.4/363.4 MB\u001b[0m \u001b[31m4.6 MB/s\u001b[0m eta \u001b[36m0:00:00\u001b[0m\n",
            "\u001b[?25hDownloading nvidia_cuda_cupti_cu12-12.4.127-py3-none-manylinux2014_x86_64.whl (13.8 MB)\n",
            "\u001b[2K   \u001b[90m━━━━━━━━━━━━━━━━━━━━━━━━━━━━━━━━━━━━━━━━\u001b[0m \u001b[32m13.8/13.8 MB\u001b[0m \u001b[31m97.5 MB/s\u001b[0m eta \u001b[36m0:00:00\u001b[0m\n",
            "\u001b[?25hDownloading nvidia_cuda_nvrtc_cu12-12.4.127-py3-none-manylinux2014_x86_64.whl (24.6 MB)\n",
            "\u001b[2K   \u001b[90m━━━━━━━━━━━━━━━━━━━━━━━━━━━━━━━━━━━━━━━━\u001b[0m \u001b[32m24.6/24.6 MB\u001b[0m \u001b[31m66.9 MB/s\u001b[0m eta \u001b[36m0:00:00\u001b[0m\n",
            "\u001b[?25hDownloading nvidia_cuda_runtime_cu12-12.4.127-py3-none-manylinux2014_x86_64.whl (883 kB)\n",
            "\u001b[2K   \u001b[90m━━━━━━━━━━━━━━━━━━━━━━━━━━━━━━━━━━━━━━━━\u001b[0m \u001b[32m883.7/883.7 kB\u001b[0m \u001b[31m40.0 MB/s\u001b[0m eta \u001b[36m0:00:00\u001b[0m\n",
            "\u001b[?25hDownloading nvidia_cudnn_cu12-9.1.0.70-py3-none-manylinux2014_x86_64.whl (664.8 MB)\n",
            "\u001b[2K   \u001b[90m━━━━━━━━━━━━━━━━━━━━━━━━━━━━━━━━━━━━━━━━\u001b[0m \u001b[32m664.8/664.8 MB\u001b[0m \u001b[31m2.9 MB/s\u001b[0m eta \u001b[36m0:00:00\u001b[0m\n",
            "\u001b[?25hDownloading nvidia_cufft_cu12-11.2.1.3-py3-none-manylinux2014_x86_64.whl (211.5 MB)\n",
            "\u001b[2K   \u001b[90m━━━━━━━━━━━━━━━━━━━━━━━━━━━━━━━━━━━━━━━━\u001b[0m \u001b[32m211.5/211.5 MB\u001b[0m \u001b[31m6.0 MB/s\u001b[0m eta \u001b[36m0:00:00\u001b[0m\n",
            "\u001b[?25hDownloading nvidia_curand_cu12-10.3.5.147-py3-none-manylinux2014_x86_64.whl (56.3 MB)\n",
            "\u001b[2K   \u001b[90m━━━━━━━━━━━━━━━━━━━━━━━━━━━━━━━━━━━━━━━━\u001b[0m \u001b[32m56.3/56.3 MB\u001b[0m \u001b[31m15.5 MB/s\u001b[0m eta \u001b[36m0:00:00\u001b[0m\n",
            "\u001b[?25hDownloading nvidia_cusolver_cu12-11.6.1.9-py3-none-manylinux2014_x86_64.whl (127.9 MB)\n",
            "\u001b[2K   \u001b[90m━━━━━━━━━━━━━━━━━━━━━━━━━━━━━━━━━━━━━━━━\u001b[0m \u001b[32m127.9/127.9 MB\u001b[0m \u001b[31m6.5 MB/s\u001b[0m eta \u001b[36m0:00:00\u001b[0m\n",
            "\u001b[?25hDownloading nvidia_cusparse_cu12-12.3.1.170-py3-none-manylinux2014_x86_64.whl (207.5 MB)\n",
            "\u001b[2K   \u001b[90m━━━━━━━━━━━━━━━━━━━━━━━━━━━━━━━━━━━━━━━━\u001b[0m \u001b[32m207.5/207.5 MB\u001b[0m \u001b[31m5.0 MB/s\u001b[0m eta \u001b[36m0:00:00\u001b[0m\n",
            "\u001b[?25hDownloading nvidia_nvjitlink_cu12-12.4.127-py3-none-manylinux2014_x86_64.whl (21.1 MB)\n",
            "\u001b[2K   \u001b[90m━━━━━━━━━━━━━━━━━━━━━━━━━━━━━━━━━━━━━━━━\u001b[0m \u001b[32m21.1/21.1 MB\u001b[0m \u001b[31m59.0 MB/s\u001b[0m eta \u001b[36m0:00:00\u001b[0m\n",
            "\u001b[?25hDownloading ultralytics_thop-2.0.14-py3-none-any.whl (26 kB)\n",
            "Downloading filetype-1.2.0-py2.py3-none-any.whl (19 kB)\n",
            "Downloading python_dotenv-1.1.1-py3-none-any.whl (20 kB)\n",
            "Installing collected packages: filetype, python-dotenv, pillow-heif, opencv-python-headless, nvidia-nvjitlink-cu12, nvidia-curand-cu12, nvidia-cufft-cu12, nvidia-cuda-runtime-cu12, nvidia-cuda-nvrtc-cu12, nvidia-cuda-cupti-cu12, nvidia-cublas-cu12, idna, nvidia-cusparse-cu12, nvidia-cudnn-cu12, nvidia-cusolver-cu12, roboflow, ultralytics-thop, ultralytics\n",
            "  Attempting uninstall: opencv-python-headless\n",
            "    Found existing installation: opencv-python-headless 4.11.0.86\n",
            "    Uninstalling opencv-python-headless-4.11.0.86:\n",
            "      Successfully uninstalled opencv-python-headless-4.11.0.86\n",
            "  Attempting uninstall: nvidia-nvjitlink-cu12\n",
            "    Found existing installation: nvidia-nvjitlink-cu12 12.5.82\n",
            "    Uninstalling nvidia-nvjitlink-cu12-12.5.82:\n",
            "      Successfully uninstalled nvidia-nvjitlink-cu12-12.5.82\n",
            "  Attempting uninstall: nvidia-curand-cu12\n",
            "    Found existing installation: nvidia-curand-cu12 10.3.6.82\n",
            "    Uninstalling nvidia-curand-cu12-10.3.6.82:\n",
            "      Successfully uninstalled nvidia-curand-cu12-10.3.6.82\n",
            "  Attempting uninstall: nvidia-cufft-cu12\n",
            "    Found existing installation: nvidia-cufft-cu12 11.2.3.61\n",
            "    Uninstalling nvidia-cufft-cu12-11.2.3.61:\n",
            "      Successfully uninstalled nvidia-cufft-cu12-11.2.3.61\n",
            "  Attempting uninstall: nvidia-cuda-runtime-cu12\n",
            "    Found existing installation: nvidia-cuda-runtime-cu12 12.5.82\n",
            "    Uninstalling nvidia-cuda-runtime-cu12-12.5.82:\n",
            "      Successfully uninstalled nvidia-cuda-runtime-cu12-12.5.82\n",
            "  Attempting uninstall: nvidia-cuda-nvrtc-cu12\n",
            "    Found existing installation: nvidia-cuda-nvrtc-cu12 12.5.82\n",
            "    Uninstalling nvidia-cuda-nvrtc-cu12-12.5.82:\n",
            "      Successfully uninstalled nvidia-cuda-nvrtc-cu12-12.5.82\n",
            "  Attempting uninstall: nvidia-cuda-cupti-cu12\n",
            "    Found existing installation: nvidia-cuda-cupti-cu12 12.5.82\n",
            "    Uninstalling nvidia-cuda-cupti-cu12-12.5.82:\n",
            "      Successfully uninstalled nvidia-cuda-cupti-cu12-12.5.82\n",
            "  Attempting uninstall: nvidia-cublas-cu12\n",
            "    Found existing installation: nvidia-cublas-cu12 12.5.3.2\n",
            "    Uninstalling nvidia-cublas-cu12-12.5.3.2:\n",
            "      Successfully uninstalled nvidia-cublas-cu12-12.5.3.2\n",
            "  Attempting uninstall: idna\n",
            "    Found existing installation: idna 3.10\n",
            "    Uninstalling idna-3.10:\n",
            "      Successfully uninstalled idna-3.10\n",
            "  Attempting uninstall: nvidia-cusparse-cu12\n",
            "    Found existing installation: nvidia-cusparse-cu12 12.5.1.3\n",
            "    Uninstalling nvidia-cusparse-cu12-12.5.1.3:\n",
            "      Successfully uninstalled nvidia-cusparse-cu12-12.5.1.3\n",
            "  Attempting uninstall: nvidia-cudnn-cu12\n",
            "    Found existing installation: nvidia-cudnn-cu12 9.3.0.75\n",
            "    Uninstalling nvidia-cudnn-cu12-9.3.0.75:\n",
            "      Successfully uninstalled nvidia-cudnn-cu12-9.3.0.75\n",
            "  Attempting uninstall: nvidia-cusolver-cu12\n",
            "    Found existing installation: nvidia-cusolver-cu12 11.6.3.83\n",
            "    Uninstalling nvidia-cusolver-cu12-11.6.3.83:\n",
            "      Successfully uninstalled nvidia-cusolver-cu12-11.6.3.83\n",
            "Successfully installed filetype-1.2.0 idna-3.7 nvidia-cublas-cu12-12.4.5.8 nvidia-cuda-cupti-cu12-12.4.127 nvidia-cuda-nvrtc-cu12-12.4.127 nvidia-cuda-runtime-cu12-12.4.127 nvidia-cudnn-cu12-9.1.0.70 nvidia-cufft-cu12-11.2.1.3 nvidia-curand-cu12-10.3.5.147 nvidia-cusolver-cu12-11.6.1.9 nvidia-cusparse-cu12-12.3.1.170 nvidia-nvjitlink-cu12-12.4.127 opencv-python-headless-4.10.0.84 pillow-heif-0.22.0 python-dotenv-1.1.1 roboflow-1.1.66 ultralytics-8.3.159 ultralytics-thop-2.0.14\n"
          ]
        }
      ],
      "source": [
        "!pip install ultralytics roboflow opencv-python"
      ]
    },
    {
      "cell_type": "code",
      "execution_count": 2,
      "metadata": {
        "id": "Knv0exb6BoW0",
        "colab": {
          "base_uri": "https://localhost:8080/"
        },
        "outputId": "8aea719a-2782-400a-b380-33fa9aa42e1c"
      },
      "outputs": [
        {
          "output_type": "stream",
          "name": "stdout",
          "text": [
            "Enter your Roboflow API key:··········\n",
            "loading Roboflow workspace...\n",
            "loading Roboflow project...\n"
          ]
        },
        {
          "output_type": "stream",
          "name": "stderr",
          "text": [
            "Downloading Dataset Version Zip in XRay-Chest-Nodule-7 to yolov8:: 100%|██████████| 638309/638309 [00:12<00:00, 53128.19it/s]"
          ]
        },
        {
          "output_type": "stream",
          "name": "stdout",
          "text": [
            "\n"
          ]
        },
        {
          "output_type": "stream",
          "name": "stderr",
          "text": [
            "\n",
            "Extracting Dataset Version Zip to XRay-Chest-Nodule-7 in yolov8:: 100%|██████████| 10029/10029 [00:03<00:00, 3050.30it/s]\n"
          ]
        },
        {
          "output_type": "stream",
          "name": "stdout",
          "text": [
            "Creating new Ultralytics Settings v0.0.6 file ✅ \n",
            "View Ultralytics Settings with 'yolo settings' or at '/root/.config/Ultralytics/settings.json'\n",
            "Update Settings with 'yolo settings key=value', i.e. 'yolo settings runs_dir=path/to/dir'. For help see https://docs.ultralytics.com/quickstart/#ultralytics-settings.\n"
          ]
        }
      ],
      "source": [
        "from roboflow import Roboflow\n",
        "from getpass import getpass\n",
        "\n",
        "# Prompt for the key securely\n",
        "api_key = getpass(\"Enter your Roboflow API key:\")\n",
        "rf = Roboflow(api_key=api_key)\n",
        "\n",
        "project = rf.workspace(\"xray-chest-nodule\").project(\"xray-chest-nodule\")\n",
        "dataset = project.version(7).download(\"yolov8\")"
      ]
    },
    {
      "cell_type": "code",
      "execution_count": 3,
      "metadata": {
        "id": "waU0ixoWkf-C",
        "colab": {
          "base_uri": "https://localhost:8080/"
        },
        "outputId": "9b3cbbd8-4e76-49c1-8664-b95b215ed5d9"
      },
      "outputs": [
        {
          "output_type": "stream",
          "name": "stdout",
          "text": [
            "/content/XRay-Chest-Nodule-7/data.yaml\n"
          ]
        }
      ],
      "source": [
        "!find /content -name \"data.yaml\""
      ]
    },
    {
      "cell_type": "code",
      "execution_count": 4,
      "metadata": {
        "id": "rvkozj5llv6J"
      },
      "outputs": [],
      "source": [
        "#  move 10% of train images + labels to valid\n",
        "!mkdir -p /content/XRay-Chest-Nodule-7/valid/images\n",
        "!mkdir -p /content/XRay-Chest-Nodule-7/valid/labels"
      ]
    },
    {
      "cell_type": "code",
      "execution_count": 5,
      "metadata": {
        "id": "sY34zRxdl1yz"
      },
      "outputs": [],
      "source": [
        "import os, random, shutil\n",
        "\n",
        "src_img = '/content/XRay-Chest-Nodule-7/train/images'\n",
        "src_lbl = '/content/XRay-Chest-Nodule-7/train/labels'\n",
        "dst_img = '/content/XRay-Chest-Nodule-7/valid/images'\n",
        "dst_lbl = '/content/XRay-Chest-Nodule-7/valid/labels'\n",
        "\n",
        "os.makedirs(dst_img, exist_ok=True)\n",
        "os.makedirs(dst_lbl, exist_ok=True)\n",
        "\n",
        "images = os.listdir(src_img)\n",
        "random.shuffle(images)\n",
        "\n",
        "val_split = 0.1\n",
        "val_count = int(len(images) * val_split)\n",
        "\n",
        "for img_name in images[:val_count]:\n",
        "    lbl_name = img_name.replace('.jpg', '.txt').replace('.png', '.txt')\n",
        "    shutil.move(os.path.join(src_img, img_name), os.path.join(dst_img, img_name))\n",
        "    shutil.move(os.path.join(src_lbl, lbl_name), os.path.join(dst_lbl, lbl_name))"
      ]
    },
    {
      "cell_type": "markdown",
      "source": [
        "### Mount Drive & Prepare Save Path"
      ],
      "metadata": {
        "id": "bhJ2zBeWNZOq"
      }
    },
    {
      "cell_type": "code",
      "execution_count": null,
      "metadata": {
        "id": "z73KIh0x9DWG",
        "colab": {
          "base_uri": "https://localhost:8080/"
        },
        "outputId": "7a0d8e15-b5bc-4999-eb18-e334ad67bc90"
      },
      "outputs": [
        {
          "output_type": "stream",
          "name": "stdout",
          "text": [
            "Mounted at /content/drive\n"
          ]
        }
      ],
      "source": [
        "from google.colab import drive\n",
        "import os\n",
        "\n",
        "drive.mount('/content/drive')\n"
      ]
    },
    {
      "cell_type": "markdown",
      "source": [
        "## Gradio"
      ],
      "metadata": {
        "id": "pdEngYjaZy9C"
      }
    },
    {
      "cell_type": "markdown",
      "source": [
        "### Create Gradio interface"
      ],
      "metadata": {
        "id": "8X11qsQxb14a"
      }
    },
    {
      "cell_type": "code",
      "source": [
        "%%writefile app.py\n",
        "\n",
        "import gradio as gr\n",
        "from ultralytics import YOLO\n",
        "from PIL import Image, ImageDraw\n",
        "import os\n",
        "\n",
        "# Load model\n",
        "model = YOLO(\"best.pt\")\n",
        "CLASS_NAMES = model.names\n",
        "\n",
        "# Ground truth label folder\n",
        "GT_LABEL_PATH = \"examples/labels\"\n",
        "\n",
        "# Draw boxes on PIL image\n",
        "def draw_boxes(image, boxes, labels, color, width=2):\n",
        "    draw = ImageDraw.Draw(image)\n",
        "    for box, label in zip(boxes, labels):\n",
        "        x1, y1, x2, y2 = box\n",
        "        draw.rectangle([x1, y1, x2, y2], outline=color, width=width)\n",
        "        draw.text((x1, max(0, y1 - 10)), label, fill=color)\n",
        "    return image\n",
        "\n",
        "# Parse YOLO format label (cls cx cy w h) to box\n",
        "def parse_yolo_label(txt_path, img_w, img_h):\n",
        "    boxes = []\n",
        "    labels = []\n",
        "    if not os.path.exists(txt_path):\n",
        "        return boxes, labels\n",
        "    with open(txt_path, \"r\") as f:\n",
        "        for line in f:\n",
        "            parts = line.strip().split()\n",
        "            if len(parts) != 5:\n",
        "                continue\n",
        "            cls, cx, cy, w, h = map(float, parts)\n",
        "            x1 = int((cx - w / 2) * img_w)\n",
        "            y1 = int((cy - h / 2) * img_h)\n",
        "            x2 = int((cx + w / 2) * img_w)\n",
        "            y2 = int((cy + h / 2) * img_h)\n",
        "            boxes.append((x1, y1, x2, y2))\n",
        "            labels.append(CLASS_NAMES[int(cls)])\n",
        "    return boxes, labels\n",
        "\n",
        "# Main function\n",
        "def detect_nodules(input_image):\n",
        "    # Convert to PIL if needed\n",
        "    if not isinstance(input_image, Image.Image):\n",
        "        input_image = Image.fromarray(input_image)\n",
        "\n",
        "    # Inference\n",
        "    results = model.predict(input_image, conf=0.25, verbose=False)[0]\n",
        "\n",
        "    # Draw predictions (red)\n",
        "    image_pred = input_image.copy()\n",
        "    boxes_pred = []\n",
        "    labels_pred = []\n",
        "    for box in results.boxes:\n",
        "        x1, y1, x2, y2 = map(int, box.xyxy[0])\n",
        "        conf = box.conf[0].item()\n",
        "        cls_id = int(box.cls[0])\n",
        "        label = f\"{CLASS_NAMES[cls_id]} {conf:.2f}\"\n",
        "        boxes_pred.append((x1, y1, x2, y2))\n",
        "        labels_pred.append(label)\n",
        "    image_pred = draw_boxes(image_pred, boxes_pred, labels_pred, color=\"red\")\n",
        "\n",
        "    # Try loading ground truth\n",
        "    filename = getattr(input_image, \"name\", None)\n",
        "    image_gt = input_image.copy()\n",
        "    if filename:\n",
        "        base = os.path.basename(filename)\n",
        "        name, _ = os.path.splitext(base)\n",
        "        label_file = os.path.join(GT_LABEL_PATH, name + \".txt\")\n",
        "        gt_boxes, gt_labels = parse_yolo_label(label_file, image_gt.width, image_gt.height)\n",
        "        image_gt = draw_boxes(image_gt, gt_boxes, gt_labels, color=\"green\")\n",
        "    return image_pred, image_gt\n",
        "\n",
        "# Generate examples dynamically\n",
        "example_images = [\n",
        "    [\"examples/\" + f]\n",
        "    for f in os.listdir(\"examples\")\n",
        "    if f.endswith((\".jpg\", \".png\", \".jpeg\"))\n",
        "]\n",
        "\n",
        "# Gradio app\n",
        "demo = gr.Interface(\n",
        "    fn=detect_nodules,\n",
        "    inputs=gr.Image(type=\"pil\", label=\"Upload Chest X-ray\"),\n",
        "    outputs=[\n",
        "        gr.Image(type=\"pil\", label=\"Predicted (Red)\"),\n",
        "        gr.Image(type=\"pil\", label=\"Ground Truth (Green)\")\n",
        "    ],\n",
        "    title=\"Chest X-ray Nodule Detection with YOLOv8\",\n",
        "    description=\"Upload an X-ray image or use the examples. Red = prediction, Green = ground truth (if available).\",\n",
        "    examples=example_images\n",
        ")\n",
        "\n",
        "if __name__ == \"__main__\":\n",
        "    demo.launch()\n"
      ],
      "metadata": {
        "colab": {
          "base_uri": "https://localhost:8080/"
        },
        "id": "eQGuC7VITyRj",
        "outputId": "e393db3b-0462-4cfa-9bb1-8840ec644f49"
      },
      "execution_count": 6,
      "outputs": [
        {
          "output_type": "stream",
          "name": "stdout",
          "text": [
            "Writing app.py\n"
          ]
        }
      ]
    },
    {
      "cell_type": "markdown",
      "source": [
        "### Requirements.txt"
      ],
      "metadata": {
        "id": "O4VM4Qj5jOgZ"
      }
    },
    {
      "cell_type": "code",
      "source": [
        "with open(\"requirements.txt\", \"w\") as f:\n",
        "    f.write(\"ultralytics>=8.0.0\\ngradio>=4.0\\nopencv-python\\npillow\\n\")\n"
      ],
      "metadata": {
        "id": "hwSNny9HTyPQ"
      },
      "execution_count": 3,
      "outputs": []
    },
    {
      "cell_type": "markdown",
      "source": [
        "### Folder Structure"
      ],
      "metadata": {
        "id": "3b2CiXkcjT7K"
      }
    },
    {
      "cell_type": "code",
      "source": [
        "# my-app/\n",
        "# ├── app.py\n",
        "# ├── best.pt\n",
        "# ├── requirements.txt\n",
        "# └── examples/\n",
        "#     ├── img1003_jpg.rf.2ff865719a3c4c6397f9094ca90c9a19.jpg\n",
        "#     └── labels/\n",
        "#         └── img1003_jpg.rf.2ff865719a3c4c6397f9094ca90c9a19.txt"
      ],
      "metadata": {
        "id": "xE_19x_bTyMz"
      },
      "execution_count": 4,
      "outputs": []
    },
    {
      "cell_type": "markdown",
      "source": [
        "You can see my model on Hugging face here"
      ],
      "metadata": {
        "id": "m3rWTQEqndUL"
      }
    },
    {
      "cell_type": "markdown",
      "source": [
        "## FastAPI"
      ],
      "metadata": {
        "id": "CwA8ieK6ni1m"
      }
    },
    {
      "cell_type": "markdown",
      "source": [
        "### main.py — FastAPI Inference API"
      ],
      "metadata": {
        "id": "qExodPeyoSxK"
      }
    },
    {
      "cell_type": "code",
      "source": [
        "%%writefile main.py\n",
        "\n",
        "import gradio as gr\n",
        "from ultralytics import YOLO\n",
        "from PIL import Image, ImageDraw\n",
        "import os\n",
        "\n",
        "# Load YOLO model\n",
        "model = YOLO(\"best.pt\")\n",
        "CLASS_NAMES = model.names\n",
        "\n",
        "# Ground truth label folder\n",
        "GT_LABEL_PATH = \"examples/labels\"\n",
        "\n",
        "# Draw boxes on a PIL image\n",
        "def draw_boxes(image, boxes, labels, color, width=2):\n",
        "    draw = ImageDraw.Draw(image)\n",
        "    for box, label in zip(boxes, labels):\n",
        "        x1, y1, x2, y2 = box\n",
        "        draw.rectangle([x1, y1, x2, y2], outline=color, width=width)\n",
        "        draw.text((x1, max(0, y1 - 10)), label, fill=color)\n",
        "    return image\n",
        "\n",
        "# Convert YOLO-format label file to bounding boxes\n",
        "def parse_yolo_label(txt_path, img_w, img_h):\n",
        "    boxes = []\n",
        "    labels = []\n",
        "    if not os.path.exists(txt_path):\n",
        "        return boxes, labels\n",
        "    with open(txt_path, \"r\") as f:\n",
        "        for line in f:\n",
        "            parts = line.strip().split()\n",
        "            if len(parts) != 5:\n",
        "                continue\n",
        "            cls, cx, cy, w, h = map(float, parts)\n",
        "            x1 = int((cx - w / 2) * img_w)\n",
        "            y1 = int((cy - h / 2) * img_h)\n",
        "            x2 = int((cx + w / 2) * img_w)\n",
        "            y2 = int((cy + h / 2) * img_h)\n",
        "            boxes.append((x1, y1, x2, y2))\n",
        "            labels.append(CLASS_NAMES[int(cls)])\n",
        "    return boxes, labels\n",
        "\n",
        "# Main prediction function\n",
        "def detect_nodules(input_path):\n",
        "    # Load image from path\n",
        "    input_image = Image.open(input_path).convert(\"RGB\")\n",
        "\n",
        "    # Run inference\n",
        "    results = model.predict(input_image, conf=0.25, verbose=False)[0]\n",
        "\n",
        "    # Draw predicted boxes in red\n",
        "    image_pred = input_image.copy()\n",
        "    boxes_pred = []\n",
        "    labels_pred = []\n",
        "    for box in results.boxes:\n",
        "        x1, y1, x2, y2 = map(int, box.xyxy[0])\n",
        "        conf = box.conf[0].item()\n",
        "        cls_id = int(box.cls[0])\n",
        "        label = f\"{CLASS_NAMES[cls_id]} {conf:.2f}\"\n",
        "        boxes_pred.append((x1, y1, x2, y2))\n",
        "        labels_pred.append(label)\n",
        "    image_pred = draw_boxes(image_pred, boxes_pred, labels_pred, color=\"red\")\n",
        "\n",
        "    # Load ground truth if available\n",
        "    name = os.path.splitext(os.path.basename(input_path))[0]\n",
        "    label_file = os.path.join(GT_LABEL_PATH, name + \".txt\")\n",
        "    gt_boxes, gt_labels = parse_yolo_label(label_file, input_image.width, input_image.height)\n",
        "    image_gt = draw_boxes(input_image.copy(), gt_boxes, gt_labels, color=\"green\")\n",
        "\n",
        "    return image_pred, image_gt\n",
        "\n",
        "# Example images (manually listed to ensure label match)\n",
        "example_images = [\n",
        "    [\"examples/img1002_jpg.rf.4414eb1297a2dc6b08bbb3cd50751223.jpg\"],\n",
        "    [\"examples/img1050_jpg.rf.4510221f7aaf9bb260413d38965945e6.jpg\"],\n",
        "    [\"examples/img1023_jpg.rf.79c40506309b87f1086c96311e48688e.jpg\"]\n",
        "]\n",
        "\n",
        "# Gradio UI\n",
        "demo = gr.Interface(\n",
        "    fn=detect_nodules,\n",
        "    inputs=gr.Image(type=\"filepath\", label=\"Upload Chest X-ray\"),\n",
        "    outputs=[\n",
        "        gr.Image(type=\"pil\", label=\"Predicted (Red Boxes)\"),\n",
        "        gr.Image(type=\"pil\", label=\"Ground Truth (Green Boxes)\")\n",
        "    ],\n",
        "    title=\"🩻 Chest X-ray Nodule Detection with YOLOv8\",\n",
        "    description=(\n",
        "        \"Upload a chest X-ray or select an example. The model detects nodules using a fine-tuned YOLOv8 model. \"\n",
        "        \"Red = model prediction. Green = annotated ground truth (if available).\"\n",
        "    ),\n",
        "    examples=example_images\n",
        ")\n",
        "\n",
        "if __name__ == \"__main__\":\n",
        "    demo.launch()\n"
      ],
      "metadata": {
        "id": "Vnr0nubUTyKV"
      },
      "execution_count": 4,
      "outputs": []
    },
    {
      "cell_type": "markdown",
      "source": [
        "### Requirements.txt"
      ],
      "metadata": {
        "id": "pCWGGHYspFoZ"
      }
    },
    {
      "cell_type": "code",
      "source": [
        "%%writefile requirements.txt\n",
        "fastapi\n",
        "uvicorn\n",
        "pillow\n",
        "ultralytics>=8.0.0"
      ],
      "metadata": {
        "id": "MhHDZeSyTyIF",
        "colab": {
          "base_uri": "https://localhost:8080/"
        },
        "outputId": "6a0a9ed0-7044-420c-cfa9-3c8bc5761100"
      },
      "execution_count": 5,
      "outputs": [
        {
          "output_type": "stream",
          "name": "stdout",
          "text": [
            "Overwriting requirements.txt\n"
          ]
        }
      ]
    },
    {
      "cell_type": "markdown",
      "source": [
        "### Project Overview"
      ],
      "metadata": {
        "id": "a1AfQft4oh3M"
      }
    },
    {
      "cell_type": "code",
      "source": [
        "# xray_api/\n",
        "# ├── main.py\n",
        "# ├── best.pt\n",
        "# ├── requirements.txt\n"
      ],
      "metadata": {
        "id": "BFHkHm93TyDS"
      },
      "execution_count": 4,
      "outputs": []
    },
    {
      "cell_type": "code",
      "source": [],
      "metadata": {
        "id": "W3RcJvPCTyBK"
      },
      "execution_count": 4,
      "outputs": []
    },
    {
      "cell_type": "code",
      "source": [],
      "metadata": {
        "id": "AECLlW3VTx-p"
      },
      "execution_count": 4,
      "outputs": []
    },
    {
      "cell_type": "code",
      "source": [],
      "metadata": {
        "id": "hHvgjvDgTx8C"
      },
      "execution_count": 4,
      "outputs": []
    },
    {
      "cell_type": "code",
      "source": [],
      "metadata": {
        "id": "4cfW3SO0Tx5w"
      },
      "execution_count": 4,
      "outputs": []
    },
    {
      "cell_type": "code",
      "source": [],
      "metadata": {
        "id": "egDWNcTQTx3T"
      },
      "execution_count": 4,
      "outputs": []
    },
    {
      "cell_type": "code",
      "source": [],
      "metadata": {
        "id": "3h0mIX06Tx0R"
      },
      "execution_count": 4,
      "outputs": []
    }
  ]
}